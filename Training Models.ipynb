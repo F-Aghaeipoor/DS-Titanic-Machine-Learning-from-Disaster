{
 "cells": [
  {
   "cell_type": "markdown",
   "metadata": {},
   "source": [
    "# Start"
   ]
  },
  {
   "cell_type": "code",
   "execution_count": 1,
   "metadata": {
    "ExecuteTime": {
     "end_time": "2021-03-25T16:52:57.402225Z",
     "start_time": "2021-03-25T16:52:54.937392Z"
    }
   },
   "outputs": [],
   "source": [
    "import numpy as np\n",
    "import pandas as pd\n",
    "\n",
    "# Visualization \n",
    "import matplotlib.pyplot as plt\n",
    "import seaborn as sns\n",
    "\n",
    "#Pre-processing\n",
    "from sklearn.preprocessing import MinMaxScaler,StandardScaler\n",
    "from sklearn.model_selection import KFold,StratifiedKFold\n",
    "\n",
    "# Machine learning \n",
    "from sklearn.svm import SVC, LinearSVC\n",
    "from sklearn.ensemble import RandomForestClassifier, GradientBoostingClassifier,AdaBoostClassifier,ExtraTreesClassifier\n",
    "\n",
    "from sklearn.neighbors import KNeighborsClassifier\n",
    "from sklearn.naive_bayes import GaussianNB\n",
    "from sklearn.linear_model import LinearRegression, LogisticRegression, Ridge, Lasso, SGDClassifier,Perceptron\n",
    "\n",
    "from sklearn.tree import DecisionTreeClassifier\n",
    "\n",
    "# Metrics\n",
    "from sklearn.metrics import precision_recall_fscore_support, roc_curve, auc,accuracy_score,roc_auc_score\n",
    "# Managing Warnings \n",
    "import warnings\n",
    "warnings.filterwarnings('ignore')\n",
    "\n",
    "# Plot the Figures Inline\n",
    "%matplotlib inline"
   ]
  },
  {
   "cell_type": "markdown",
   "metadata": {},
   "source": [
    "# Functions"
   ]
  },
  {
   "cell_type": "code",
   "execution_count": 2,
   "metadata": {
    "ExecuteTime": {
     "end_time": "2021-03-25T16:52:57.415229Z",
     "start_time": "2021-03-25T16:52:57.404221Z"
    }
   },
   "outputs": [],
   "source": [
    "def Train_ByValidation(X_train,y_train,X_val,y_val,clf):     \n",
    "    clf=clf.fit(X_train,y_train)\n",
    "    Score_train = round(clf.score(X_train, y_train) * 100, 2)\n",
    "    Score_val = round(clf.score(X_val, y_val) * 100, 2)    \n",
    "    return Score_train,Score_val\n",
    "\n",
    "def MakeDF(data_array,old_df,cols):\n",
    "    new_df = pd.DataFrame(data_array, index=old_df.index, columns=cols)\n",
    "    return new_df\n",
    "\n",
    "def Scaling(X_train,X_val):\n",
    "    ''' Scale features to the range of [0,1]'''\n",
    "    scaler = MinMaxScaler().fit(X_train)\n",
    "    X_train_new=scaler.transform(X_train)\n",
    "    X_val_new=scaler.transform(X_val)\n",
    "    selected_cols=X_train.columns\n",
    "    return MakeDF(X_train_new,X_train,selected_cols),MakeDF(X_val_new,X_val,selected_cols) "
   ]
  },
  {
   "cell_type": "markdown",
   "metadata": {},
   "source": [
    "# Read Data"
   ]
  },
  {
   "cell_type": "code",
   "execution_count": 3,
   "metadata": {
    "ExecuteTime": {
     "end_time": "2021-03-25T16:52:57.680534Z",
     "start_time": "2021-03-25T16:52:57.417229Z"
    }
   },
   "outputs": [],
   "source": [
    "train_df=pd.read_csv(\"./output/train_modified.csv\",index_col=0)\n",
    "test_df=pd.read_csv(\"./output/test_modified.csv\",index_col=0)\n",
    "X_test=test_df"
   ]
  },
  {
   "cell_type": "code",
   "execution_count": 4,
   "metadata": {
    "ExecuteTime": {
     "end_time": "2021-03-25T16:52:57.839248Z",
     "start_time": "2021-03-25T16:52:57.682537Z"
    }
   },
   "outputs": [
    {
     "data": {
      "text/html": [
       "<div>\n",
       "<style scoped>\n",
       "    .dataframe tbody tr th:only-of-type {\n",
       "        vertical-align: middle;\n",
       "    }\n",
       "\n",
       "    .dataframe tbody tr th {\n",
       "        vertical-align: top;\n",
       "    }\n",
       "\n",
       "    .dataframe thead th {\n",
       "        text-align: right;\n",
       "    }\n",
       "</style>\n",
       "<table border=\"1\" class=\"dataframe\">\n",
       "  <thead>\n",
       "    <tr style=\"text-align: right;\">\n",
       "      <th></th>\n",
       "      <th>Survived</th>\n",
       "      <th>Pclass</th>\n",
       "      <th>Sex</th>\n",
       "      <th>Age</th>\n",
       "      <th>Fare</th>\n",
       "      <th>Embarked</th>\n",
       "      <th>Title</th>\n",
       "      <th>FamilySize</th>\n",
       "      <th>IsAlone</th>\n",
       "    </tr>\n",
       "  </thead>\n",
       "  <tbody>\n",
       "    <tr>\n",
       "      <td>0</td>\n",
       "      <td>0</td>\n",
       "      <td>3</td>\n",
       "      <td>0</td>\n",
       "      <td>22.0</td>\n",
       "      <td>7.2500</td>\n",
       "      <td>0</td>\n",
       "      <td>1</td>\n",
       "      <td>2</td>\n",
       "      <td>0</td>\n",
       "    </tr>\n",
       "    <tr>\n",
       "      <td>1</td>\n",
       "      <td>1</td>\n",
       "      <td>1</td>\n",
       "      <td>1</td>\n",
       "      <td>38.0</td>\n",
       "      <td>71.2833</td>\n",
       "      <td>1</td>\n",
       "      <td>3</td>\n",
       "      <td>2</td>\n",
       "      <td>0</td>\n",
       "    </tr>\n",
       "    <tr>\n",
       "      <td>2</td>\n",
       "      <td>1</td>\n",
       "      <td>3</td>\n",
       "      <td>1</td>\n",
       "      <td>26.0</td>\n",
       "      <td>7.9250</td>\n",
       "      <td>0</td>\n",
       "      <td>2</td>\n",
       "      <td>1</td>\n",
       "      <td>1</td>\n",
       "    </tr>\n",
       "    <tr>\n",
       "      <td>3</td>\n",
       "      <td>1</td>\n",
       "      <td>1</td>\n",
       "      <td>1</td>\n",
       "      <td>35.0</td>\n",
       "      <td>53.1000</td>\n",
       "      <td>0</td>\n",
       "      <td>3</td>\n",
       "      <td>2</td>\n",
       "      <td>0</td>\n",
       "    </tr>\n",
       "    <tr>\n",
       "      <td>4</td>\n",
       "      <td>0</td>\n",
       "      <td>3</td>\n",
       "      <td>0</td>\n",
       "      <td>35.0</td>\n",
       "      <td>8.0500</td>\n",
       "      <td>0</td>\n",
       "      <td>1</td>\n",
       "      <td>1</td>\n",
       "      <td>1</td>\n",
       "    </tr>\n",
       "  </tbody>\n",
       "</table>\n",
       "</div>"
      ],
      "text/plain": [
       "   Survived  Pclass  Sex   Age     Fare  Embarked  Title  FamilySize  IsAlone\n",
       "0         0       3    0  22.0   7.2500         0      1           2        0\n",
       "1         1       1    1  38.0  71.2833         1      3           2        0\n",
       "2         1       3    1  26.0   7.9250         0      2           1        1\n",
       "3         1       1    1  35.0  53.1000         0      3           2        0\n",
       "4         0       3    0  35.0   8.0500         0      1           1        1"
      ]
     },
     "execution_count": 4,
     "metadata": {},
     "output_type": "execute_result"
    }
   ],
   "source": [
    "train_df.head()"
   ]
  },
  {
   "cell_type": "code",
   "execution_count": 5,
   "metadata": {
    "ExecuteTime": {
     "end_time": "2021-03-25T16:52:58.002611Z",
     "start_time": "2021-03-25T16:52:57.841243Z"
    }
   },
   "outputs": [
    {
     "data": {
      "text/html": [
       "<div>\n",
       "<style scoped>\n",
       "    .dataframe tbody tr th:only-of-type {\n",
       "        vertical-align: middle;\n",
       "    }\n",
       "\n",
       "    .dataframe tbody tr th {\n",
       "        vertical-align: top;\n",
       "    }\n",
       "\n",
       "    .dataframe thead th {\n",
       "        text-align: right;\n",
       "    }\n",
       "</style>\n",
       "<table border=\"1\" class=\"dataframe\">\n",
       "  <thead>\n",
       "    <tr style=\"text-align: right;\">\n",
       "      <th></th>\n",
       "      <th>Pclass</th>\n",
       "      <th>Sex</th>\n",
       "      <th>Age</th>\n",
       "      <th>Fare</th>\n",
       "      <th>Embarked</th>\n",
       "      <th>Title</th>\n",
       "      <th>FamilySize</th>\n",
       "      <th>IsAlone</th>\n",
       "    </tr>\n",
       "  </thead>\n",
       "  <tbody>\n",
       "    <tr>\n",
       "      <td>0</td>\n",
       "      <td>3</td>\n",
       "      <td>0</td>\n",
       "      <td>34.5</td>\n",
       "      <td>7.8292</td>\n",
       "      <td>2</td>\n",
       "      <td>1</td>\n",
       "      <td>1</td>\n",
       "      <td>1</td>\n",
       "    </tr>\n",
       "    <tr>\n",
       "      <td>1</td>\n",
       "      <td>3</td>\n",
       "      <td>1</td>\n",
       "      <td>47.0</td>\n",
       "      <td>7.0000</td>\n",
       "      <td>0</td>\n",
       "      <td>3</td>\n",
       "      <td>2</td>\n",
       "      <td>0</td>\n",
       "    </tr>\n",
       "    <tr>\n",
       "      <td>2</td>\n",
       "      <td>2</td>\n",
       "      <td>0</td>\n",
       "      <td>62.0</td>\n",
       "      <td>9.6875</td>\n",
       "      <td>2</td>\n",
       "      <td>1</td>\n",
       "      <td>1</td>\n",
       "      <td>1</td>\n",
       "    </tr>\n",
       "    <tr>\n",
       "      <td>3</td>\n",
       "      <td>3</td>\n",
       "      <td>0</td>\n",
       "      <td>27.0</td>\n",
       "      <td>8.6625</td>\n",
       "      <td>0</td>\n",
       "      <td>1</td>\n",
       "      <td>1</td>\n",
       "      <td>1</td>\n",
       "    </tr>\n",
       "    <tr>\n",
       "      <td>4</td>\n",
       "      <td>3</td>\n",
       "      <td>1</td>\n",
       "      <td>22.0</td>\n",
       "      <td>12.2875</td>\n",
       "      <td>0</td>\n",
       "      <td>3</td>\n",
       "      <td>3</td>\n",
       "      <td>0</td>\n",
       "    </tr>\n",
       "  </tbody>\n",
       "</table>\n",
       "</div>"
      ],
      "text/plain": [
       "   Pclass  Sex   Age     Fare  Embarked  Title  FamilySize  IsAlone\n",
       "0       3    0  34.5   7.8292         2      1           1        1\n",
       "1       3    1  47.0   7.0000         0      3           2        0\n",
       "2       2    0  62.0   9.6875         2      1           1        1\n",
       "3       3    0  27.0   8.6625         0      1           1        1\n",
       "4       3    1  22.0  12.2875         0      3           3        0"
      ]
     },
     "execution_count": 5,
     "metadata": {},
     "output_type": "execute_result"
    }
   ],
   "source": [
    "test_df.head()"
   ]
  },
  {
   "cell_type": "markdown",
   "metadata": {},
   "source": [
    "# Train Model"
   ]
  },
  {
   "cell_type": "code",
   "execution_count": 15,
   "metadata": {
    "ExecuteTime": {
     "end_time": "2021-03-25T16:54:23.166863Z",
     "start_time": "2021-03-25T16:54:22.464398Z"
    }
   },
   "outputs": [
    {
     "data": {
      "text/html": [
       "<div>\n",
       "<style scoped>\n",
       "    .dataframe tbody tr th:only-of-type {\n",
       "        vertical-align: middle;\n",
       "    }\n",
       "\n",
       "    .dataframe tbody tr th {\n",
       "        vertical-align: top;\n",
       "    }\n",
       "\n",
       "    .dataframe thead th {\n",
       "        text-align: right;\n",
       "    }\n",
       "</style>\n",
       "<table border=\"1\" class=\"dataframe\">\n",
       "  <thead>\n",
       "    <tr style=\"text-align: right;\">\n",
       "      <th></th>\n",
       "      <th>Classifier</th>\n",
       "      <th>Train Acc</th>\n",
       "      <th>Val Acc</th>\n",
       "    </tr>\n",
       "  </thead>\n",
       "  <tbody>\n",
       "    <tr>\n",
       "      <td>9</td>\n",
       "      <td>AdaBoostClassifier</td>\n",
       "      <td>87.44</td>\n",
       "      <td>83.82</td>\n",
       "    </tr>\n",
       "    <tr>\n",
       "      <td>8</td>\n",
       "      <td>GaussianNB</td>\n",
       "      <td>78.92</td>\n",
       "      <td>82.92</td>\n",
       "    </tr>\n",
       "    <tr>\n",
       "      <td>1</td>\n",
       "      <td>RandomForestClassifier</td>\n",
       "      <td>98.43</td>\n",
       "      <td>80.90</td>\n",
       "    </tr>\n",
       "    <tr>\n",
       "      <td>10</td>\n",
       "      <td>ExtraTreesClassifier</td>\n",
       "      <td>98.43</td>\n",
       "      <td>78.65</td>\n",
       "    </tr>\n",
       "    <tr>\n",
       "      <td>2</td>\n",
       "      <td>DecisionTreeClassifier</td>\n",
       "      <td>98.43</td>\n",
       "      <td>76.63</td>\n",
       "    </tr>\n",
       "    <tr>\n",
       "      <td>0</td>\n",
       "      <td>LogisticRegression</td>\n",
       "      <td>71.52</td>\n",
       "      <td>72.13</td>\n",
       "    </tr>\n",
       "    <tr>\n",
       "      <td>5</td>\n",
       "      <td>Perceptron</td>\n",
       "      <td>71.52</td>\n",
       "      <td>70.34</td>\n",
       "    </tr>\n",
       "    <tr>\n",
       "      <td>6</td>\n",
       "      <td>KNeighborsClassifier</td>\n",
       "      <td>82.06</td>\n",
       "      <td>70.34</td>\n",
       "    </tr>\n",
       "    <tr>\n",
       "      <td>3</td>\n",
       "      <td>SGDClassifier</td>\n",
       "      <td>70.63</td>\n",
       "      <td>68.09</td>\n",
       "    </tr>\n",
       "    <tr>\n",
       "      <td>7</td>\n",
       "      <td>SVC</td>\n",
       "      <td>93.72</td>\n",
       "      <td>67.64</td>\n",
       "    </tr>\n",
       "    <tr>\n",
       "      <td>4</td>\n",
       "      <td>LinearSVC</td>\n",
       "      <td>52.24</td>\n",
       "      <td>52.36</td>\n",
       "    </tr>\n",
       "  </tbody>\n",
       "</table>\n",
       "</div>"
      ],
      "text/plain": [
       "                Classifier  Train Acc  Val Acc\n",
       "9       AdaBoostClassifier      87.44    83.82\n",
       "8               GaussianNB      78.92    82.92\n",
       "1   RandomForestClassifier      98.43    80.90\n",
       "10    ExtraTreesClassifier      98.43    78.65\n",
       "2   DecisionTreeClassifier      98.43    76.63\n",
       "0       LogisticRegression      71.52    72.13\n",
       "5               Perceptron      71.52    70.34\n",
       "6     KNeighborsClassifier      82.06    70.34\n",
       "3            SGDClassifier      70.63    68.09\n",
       "7                      SVC      93.72    67.64\n",
       "4                LinearSVC      52.24    52.36"
      ]
     },
     "execution_count": 15,
     "metadata": {},
     "output_type": "execute_result"
    }
   ],
   "source": [
    "results=[]\n",
    "\n",
    "X_train=train_df.drop(['Survived'], axis=1, errors='ignore')\n",
    "y_train=train_df['Survived']\n",
    "\n",
    "# Creating Train and validation sets\n",
    "X,y=X_train,y_train\n",
    "cv = StratifiedKFold(n_splits=2, random_state=42, shuffle=True)\n",
    "for train_index, val_index in cv.split(X,y):\n",
    "    X_train,X_val,y_train,y_val=X.iloc[train_index,:],X.iloc[val_index,:],y.iloc[train_index],y.iloc[val_index]\n",
    "\n",
    "# data can be scaled to [0,1] in case LogisticRegression classifier    \n",
    "# X_train,X_val=Scaling(X_train,X_val)\n",
    "\n",
    "# Logistic Regression Classifier\n",
    "clf = LogisticRegression( solver='sag', multi_class='multinomial',random_state=42)  \n",
    "Score_train,Score_val=Train_ByValidation(X_train,y_train,X_val,y_val,clf)\n",
    "results.append(['LogisticRegression',Score_train,Score_val])\n",
    "\n",
    "# Random Forest Classifier\n",
    "clf =RandomForestClassifier(n_estimators=100)\n",
    "Score_train,Score_val=Train_ByValidation(X_train,y_train,X_val,y_val,clf)\n",
    "results.append(['RandomForestClassifier',Score_train,Score_val])\n",
    "\n",
    "# Decision Tree Classifier\n",
    "clf = DecisionTreeClassifier()\n",
    "Score_train,Score_val=Train_ByValidation(X_train,y_train,X_val,y_val,clf)\n",
    "results.append(['DecisionTreeClassifier',Score_train,Score_val])\n",
    "\n",
    "# SGD Classifier\n",
    "clf = SGDClassifier()\n",
    "Score_train,Score_val=Train_ByValidation(X_train,y_train,X_val,y_val,clf)\n",
    "results.append(['SGDClassifier',Score_train,Score_val])\n",
    "\n",
    "# Linear SVC\n",
    "clf = LinearSVC()\n",
    "Score_train,Score_val=Train_ByValidation(X_train,y_train,X_val,y_val,clf)\n",
    "results.append(['LinearSVC',Score_train,Score_val])\n",
    "\n",
    "\n",
    "# Perceptron\n",
    "clf =  Perceptron()\n",
    "Score_train,Score_val=Train_ByValidation(X_train,y_train,X_val,y_val,clf)\n",
    "results.append(['Perceptron',Score_train,Score_val])\n",
    "\n",
    "# K Neighbors Classifier\n",
    "clf = KNeighborsClassifier(n_neighbors = 3)\n",
    "Score_train,Score_val=Train_ByValidation(X_train,y_train,X_val,y_val,clf)\n",
    "results.append(['KNeighborsClassifier',Score_train,Score_val])\n",
    "\n",
    "# Support Vector Machines\n",
    "clf = SVC()\n",
    "Score_train,Score_val=Train_ByValidation(X_train,y_train,X_val,y_val,clf)\n",
    "results.append(['SVC',Score_train,Score_val])\n",
    "\n",
    "# Gaussian Naive Bayes\n",
    "clf = GaussianNB()\n",
    "Score_train,Score_val=Train_ByValidation(X_train,y_train,X_val,y_val,clf)\n",
    "results.append(['GaussianNB',Score_train,Score_val])\n",
    "\n",
    "# Ada Boost Classifier\n",
    "clf=AdaBoostClassifier(n_estimators=100)\n",
    "Score_train,Score_val=Train_ByValidation(X_train,y_train,X_val,y_val,clf)\n",
    "results.append(['AdaBoostClassifier',Score_train,Score_val])\n",
    "\n",
    "# Extra Trees Classifier\n",
    "clf=ExtraTreesClassifier()\n",
    "Score_train,Score_val=Train_ByValidation(X_train,y_train,X_val,y_val,clf)\n",
    "results.append(['ExtraTreesClassifier',Score_train,Score_val])\n",
    "\n",
    "\n",
    "Results_df = pd.DataFrame(results,columns=['Classifier', 'Train Acc','Val Acc']).sort_values(by=['Val Acc'],ascending=False)\n",
    "Results_df.head(15)\n"
   ]
  },
  {
   "cell_type": "markdown",
   "metadata": {},
   "source": [
    "# Submission to find the Test Score"
   ]
  },
  {
   "cell_type": "code",
   "execution_count": 30,
   "metadata": {
    "ExecuteTime": {
     "end_time": "2021-03-25T17:05:10.029852Z",
     "start_time": "2021-03-25T17:05:09.792697Z"
    }
   },
   "outputs": [
    {
     "name": "stdout",
     "output_type": "stream",
     "text": [
      "Mission was done!!!\n"
     ]
    }
   ],
   "source": [
    "test_df=pd.read_csv('./input/test.csv')\n",
    "\n",
    "clf=AdaBoostClassifier(n_estimators=100)\n",
    "\n",
    "clf=clf.fit(X_train,y_train)\n",
    "Y_Pred_test = clf.predict(X_test)\n",
    "\n",
    "submission = pd.DataFrame({\"PassengerId\": test_df[\"PassengerId\"],\"Survived\": Y_Pred_test})\n",
    "submission.to_csv('./output/submission.csv', index=False)\n",
    "\n",
    "print(\"Mission was done!!!\")"
   ]
  },
  {
   "cell_type": "code",
   "execution_count": 31,
   "metadata": {
    "ExecuteTime": {
     "end_time": "2021-03-25T17:05:12.474544Z",
     "start_time": "2021-03-25T17:05:12.468541Z"
    }
   },
   "outputs": [
    {
     "data": {
      "text/plain": [
       "AdaBoostClassifier(algorithm='SAMME.R', base_estimator=None, learning_rate=1.0,\n",
       "                   n_estimators=100, random_state=None)"
      ]
     },
     "execution_count": 31,
     "metadata": {},
     "output_type": "execute_result"
    }
   ],
   "source": [
    "clf"
   ]
  },
  {
   "cell_type": "markdown",
   "metadata": {},
   "source": [
    "This classifire can be tuned (Hyper-parameters tuning) to acheive better results."
   ]
  },
  {
   "cell_type": "code",
   "execution_count": null,
   "metadata": {},
   "outputs": [],
   "source": []
  }
 ],
 "metadata": {
  "kernelspec": {
   "display_name": "Python 3",
   "language": "python",
   "name": "python3"
  },
  "language_info": {
   "codemirror_mode": {
    "name": "ipython",
    "version": 3
   },
   "file_extension": ".py",
   "mimetype": "text/x-python",
   "name": "python",
   "nbconvert_exporter": "python",
   "pygments_lexer": "ipython3",
   "version": "3.7.4"
  },
  "toc": {
   "base_numbering": 1,
   "nav_menu": {},
   "number_sections": true,
   "sideBar": true,
   "skip_h1_title": false,
   "title_cell": "Table of Contents",
   "title_sidebar": "Contents",
   "toc_cell": false,
   "toc_position": {},
   "toc_section_display": true,
   "toc_window_display": true
  }
 },
 "nbformat": 4,
 "nbformat_minor": 2
}
